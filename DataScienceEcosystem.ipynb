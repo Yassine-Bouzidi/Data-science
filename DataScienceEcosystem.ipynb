{
 "cells": [
  {
   "cell_type": "markdown",
   "id": "18abf9e6-02db-43f2-9d88-0bd31d2dc28f",
   "metadata": {},
   "source": [
    "# Data Science Tools and Ecosystem"
   ]
  },
  {
   "cell_type": "markdown",
   "id": "299b5efb-6e9f-4c75-a98c-85e4c4cfa754",
   "metadata": {},
   "source": [
    "In this notebook, Data Science Tools and Ecosystem are summarized."
   ]
  },
  {
   "cell_type": "markdown",
   "id": "1af5e0b6-85eb-4197-a95b-a04425abfa68",
   "metadata": {},
   "source": [
    "**Objectives:**\n",
    "\n",
    "- List popular languages for Data Science\r\n",
    "- Explore common libraries used in Data Science\r\n",
    "- Understand the importance of development environments in Data Science\n"
   ]
  },
  {
   "cell_type": "markdown",
   "id": "b30ebcb7-8726-4e4c-bc04-b11182f03450",
   "metadata": {},
   "source": [
    "Some of the popular languages that Data Scientists use are:\n",
    "1. Python\n",
    "2. R\n",
    "3. SQL"
   ]
  },
  {
   "cell_type": "markdown",
   "id": "ae49580e-569e-4d10-9bea-347d3e7fd5cb",
   "metadata": {},
   "source": [
    "Some of the commonly used libraries used by Data Scientists include:\n",
    "1. Nump\n",
    "2. Pandas\n",
    "3. Matplotlib"
   ]
  },
  {
   "cell_type": "markdown",
   "id": "5099644a-8701-4dda-b7fa-f876564fda11",
   "metadata": {},
   "source": [
    "|Data Science Tools|\n",
    "|------|\n",
    "|Jupyter Notebook|\n",
    "|RStudio|\n",
    "|VS Code||"
   ]
  },
  {
   "cell_type": "markdown",
   "id": "3399990a-d4b2-4235-8da9-cf3824065b0b",
   "metadata": {},
   "source": [
    "### Below are a few examples of evaluating arithmetic expressions in Python."
   ]
  },
  {
   "cell_type": "markdown",
   "id": "055f23da-3c6a-4bd0-80af-db77f7defe68",
   "metadata": {},
   "source": [
    "This a simple arithmetic expression to mutiply then add integers:"
   ]
  },
  {
   "cell_type": "code",
   "execution_count": 11,
   "id": "aaa725e3-75ce-42a8-a799-8a36c03dc98b",
   "metadata": {},
   "outputs": [
    {
     "name": "stdout",
     "output_type": "stream",
     "text": [
      "17\n"
     ]
    }
   ],
   "source": [
    "result = (3*4)+5\n",
    "print(result)"
   ]
  },
  {
   "cell_type": "markdown",
   "id": "0a20055c-e3c5-4bc6-8c73-26026d40facc",
   "metadata": {},
   "source": [
    "This will convert 200 minutes to hours by diving by 60:"
   ]
  },
  {
   "cell_type": "code",
   "execution_count": 16,
   "id": "e18a224d-690c-48db-9879-b3fcc87a8047",
   "metadata": {},
   "outputs": [
    {
     "name": "stdout",
     "output_type": "stream",
     "text": [
      "3.3333333333333335\n"
     ]
    }
   ],
   "source": [
    "hours = 200 / 60\n",
    "print(hours)"
   ]
  },
  {
   "cell_type": "markdown",
   "id": "fe06e8df-499a-43b1-9857-b6854d2db9fd",
   "metadata": {},
   "source": [
    "## Author\n",
    "Yassine Bouzidi"
   ]
  },
  {
   "cell_type": "code",
   "execution_count": null,
   "id": "5dfaaf63-f4ac-4871-82c3-8de9cc9074d7",
   "metadata": {},
   "outputs": [],
   "source": []
  }
 ],
 "metadata": {
  "kernelspec": {
   "display_name": "Python 3 (ipykernel)",
   "language": "python",
   "name": "python3"
  },
  "language_info": {
   "codemirror_mode": {
    "name": "ipython",
    "version": 3
   },
   "file_extension": ".py",
   "mimetype": "text/x-python",
   "name": "python",
   "nbconvert_exporter": "python",
   "pygments_lexer": "ipython3",
   "version": "3.11.7"
  }
 },
 "nbformat": 4,
 "nbformat_minor": 5
}
